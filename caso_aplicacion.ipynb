{
  "nbformat": 4,
  "nbformat_minor": 0,
  "metadata": {
    "colab": {
      "provenance": [],
      "include_colab_link": true
    },
    "kernelspec": {
      "name": "python3",
      "display_name": "Python 3"
    },
    "language_info": {
      "name": "python"
    }
  },
  "cells": [
    {
      "cell_type": "markdown",
      "metadata": {
        "id": "view-in-github",
        "colab_type": "text"
      },
      "source": [
        "<a href=\"https://colab.research.google.com/github/nanox/OR-SilverScreener/blob/main/caso_aplicacion.ipynb\" target=\"_parent\"><img src=\"https://colab.research.google.com/assets/colab-badge.svg\" alt=\"Open In Colab\"/></a>"
      ]
    },
    {
      "cell_type": "markdown",
      "metadata": {
        "id": "vmywPreP_t1k"
      },
      "source": [
        "![unir-c.png](https://fundaesesco.esesco.net/wp-content/uploads/2021/11/unir-c.png)\n",
        "\n",
        "<!-- `Imagen tomada de https://fundaesesco.esesco.net/wp-content/uploads/2021/11/unir-c.png` -->"
      ]
    },
    {
      "cell_type": "markdown",
      "source": [
        "\n",
        "*Álvarez López, José Leonardo, UNIRalumni: 14696148 - joseleonardo.alvarez696@comunidadunir.net*\n",
        "\n",
        "**Investigación de Operaciones** - Profesor: Rafael Ángel Montoya.  \n",
        "\n",
        "<br>Santiago de Cali, Abr-2024\n",
        "\n",
        "<a href=\"https://creativecommons.org/licenses/by-nc-nd/2.5/co/\">\n",
        "<img src=\"https://upload.wikimedia.org/wikipedia/commons/7/70/CC_BY-NC-ND.svg\" width=\"100px\" alt=\"cc_by-nc-nd\" /></a>\n"
      ],
      "metadata": {
        "id": "eyhhLLn8njqg"
      }
    },
    {
      "cell_type": "markdown",
      "source": [
        "# Abstract\n",
        "---\n",
        "\n",
        "## Operations Research and Optimization\n",
        "\n",
        "Operations Research and optimization techniques are highly relevant for data scientists due to their ability to solve complex decision-making problems and improve the efficiency of various processes."
      ],
      "metadata": {
        "id": "NkOf5tfuZJUG"
      }
    },
    {
      "cell_type": "markdown",
      "source": [
        "# Caso: Aplicación\n",
        "\n",
        "## 1. Objetivos\n",
        "---\n",
        "\n",
        "A través de esta actividad podrás articular una gran parte de los conocimientos adquiridos en el curso: construcción de modelos de programación lineal, programación lineal entera y uso de cuadernos de Google Colaboratory y el lenguaje de programación Python.\n",
        "<br/>\n",
        "\n",
        "## 2. Descripción\n",
        "---\n",
        "\n",
        "A continuación se presenta el caso de aplicación a desarrollar, tomado de   Anderson, D. R., Sweeney, D. J., & Williams, T. A. (2011). Métodos cuantitativos para los negocios (11a. Ed.). CENGAGE Learning.\n",
        "\n",
        "> Un sistema de programación matemática, llamado SilverScreener, utiliza un modelo de programación entera 0-1 para ayudar a los gerentes de salas de cine a decidir cuáles películas exhibir semanalmente en una sala con múltiples pantallas. Suponga que a la gerencia de Valley Cinemas le gustaría investigar el potencial de utilizar un sistema de programación similar para su cadena de salas de cine con múltiples pantallas. Valley seleccionó una sala pequeña con dos pantallas para las pruebas piloto y le gustaría elaborar un modelo de programación lineal entera para ayudar a programar películas para las cuatro semanas siguientes. Hay seis cintas disponibles. La primera semana cada película está disponible, la última semana se exhibe cada película y el número máximo de semanas que se puede exhibir se muestra aquí\n",
        ">\n",
        "> | **Película** | **Primera semana disponible** | **Ultima semana disponible** | **Exhibición máxima (semanas)** |\n",
        "|:------------:|:-----------------------------:|:----------------------------:|:-------------------------------:|\n",
        "|       1      |               1               |               2              |                2                |\n",
        "|       2      |               1               |               3              |                2                |\n",
        "|       3      |               1               |               1              |                2                |\n",
        "|       4      |               2               |               4              |                2                |\n",
        "|       5      |               3               |               6              |                3                |\n",
        "|       6      |               3               |               5              |                3                |\n",
        ">\n",
        ">El programa de exhibición general para el cine se compone de programas individuales para cada una de las seis películas. Cada programa debe elaborarse especificando la semana que inicia la exhibición de la película y el número de semanas consecutivas que se exhibirá. Por ejemplo, un programa posible para la película 2 es que inicie en la semana 1 y se proyecte durante dos semanas. La política del cine requiere que una vez iniciada una película debe exhibirse en semanas consecutivas; su proyección no puede suspenderse y reiniciarse de nuevo. Para representar las posibilidades de programación para cada película, se elaboraron las variables de decisión siguientes:\n",
        ">\n",
        "> \\begin{align*}\n",
        "x_{ijk} &=\n",
        "\\begin{cases}\n",
        "1 & \\text{si la película } i \\text{ se programa para iniciar en la semana } j \\text{ y se exhibe por } k \\text{ semanas}, \\\\\n",
        "0 & \\text{en caso contrario.}\n",
        "\\end{cases}\n",
        "\\end{align*}\n",
        ">\n",
        "> Por ejemplo, $X_{532}=1$ significa que el programa seleccionado para la película 5 comenzará en la semana 3 y se exhibirá durante dos semanas. Para cada película se proporciona una variable separada para cada programa posible.\n",
        ">\n",
        ">*   Tres programas se asocian con la película 1. Liste las variables que representan estos programas\n",
        "*   Escriba una restricción que requiera que se seleccione solo un programa para la película 1.\n",
        "*   Escriba una restricción que requiera que se seleccione solo un programa para la película 5\n",
        "*   ¿Qué restringe el número de películas que se pueden exhibir en la semana 1? Escriba una restricción que limite el número de películas seleccionadas para ver en la semana 1\n",
        "*   Escriba una restricción que limite el número de películas seleccionadas para ver en la semana 3\n",
        ">"
      ],
      "metadata": {
        "id": "Hn1gWBQPk8-Z"
      }
    },
    {
      "cell_type": "markdown",
      "source": [
        "# 3. Solución\n",
        "---\n",
        "\n",
        "Valley Cinemas tiene una sala pequeña con dos pantallas y desea programar seis películas para las próximas cuatro semanas, utilizando un modelo de programación lineal entera se puede optimizar la programación de las películas.\n",
        "\n",
        "## 3.1 Construcción del modelo\n",
        "\n",
        "#### **Variables de decisión :**\n",
        "\n",
        "\\begin{align*}\n",
        "x_{ijk} &=\n",
        "\\begin{cases}\n",
        "1 & \\text{si la película } i \\text{ se programa para iniciar en la semana } j \\text{ y se exhibe por } k \\text{ semanas}, \\\\\n",
        "0 & \\text{en caso contrario.}\n",
        "\\end{cases}\n",
        "\\end{align*}\n",
        "\n",
        "\\begin{align}\n",
        "x_{ijk} \\in \\{0, 1\\} \\quad\n",
        "\\end{align}\n",
        "\n",
        "#### **Restricciones :**\n",
        "Con estas restricciones, estamos asegurando que cada película se programa una vez en una pantalla, cada pantalla muestra una película cada semana y que cada película cumple con el límite máximo de semanas de exhibición. <br />\n",
        "\n",
        "\\begin{align*}\n",
        "&\\text{a) Restricción para la película 1:} \\\\\n",
        "&\\sum_{j=1}^{4} \\sum_{k=1}^{4} x_{1jk} = 1 \\\\\n",
        "&\\text{b) Restricción para la película 5:} \\\\\n",
        "&\\sum_{j=1}^{4} \\sum_{k=1}^{4} x_{5jk} = 1 \\\\\n",
        "&\\text{c) Restricción para limitar el número de películas en la semana 1:} \\\\\n",
        "&\\sum_{i=1}^{6} \\sum_{k=1}^{4} x_{i1k} \\leq 2 \\\\\n",
        "&\\text{d) Restricción para limitar el número de películas en la semana 3:} \\\\\n",
        "&\\sum_{i=1}^{6} \\sum_{k=1}^{4} x_{i3k} \\leq 2 \\\\\n",
        "\\end{align*}\n",
        "\n",
        "\n",
        "#### **Función objetivo :**\n",
        "\n",
        "La función objetivo busca maximizar el número total de películas programadas.\n",
        "\n",
        "\\begin{align*}\n",
        "\\text{Maximizar} \\quad \\sum_{i=1}^{6} \\sum_{j=1}^{4} \\sum_{k=1}^{4} x_{ijk}\n",
        "\\end{align*}\n",
        "\n",
        "<br />"
      ],
      "metadata": {
        "id": "96khwtwdBcd_"
      }
    },
    {
      "cell_type": "markdown",
      "source": [
        "<br />\n",
        "\n",
        "## 3.2 Implementación del software\n",
        "\n",
        "Este código crea un modelo de programación lineal utilizando la biblioteca PuLP en Python. Define variables de decisión para representar qué programas de películas se seleccionan para cada semana y pantalla, y luego agrega restricciones y una función objetivo para resolver el problema. Finalmente, muestra los resultados que indican qué programas de películas se seleccionan para cada semana."
      ],
      "metadata": {
        "id": "XoV0ag2RVz-Z"
      }
    },
    {
      "cell_type": "code",
      "source": [
        "!pip install -q pulp"
      ],
      "metadata": {
        "colab": {
          "base_uri": "https://localhost:8080/"
        },
        "id": "_jAOZ4TjbAJG",
        "outputId": "4d328d1b-08b6-444e-dd72-899bff740d95"
      },
      "execution_count": 1,
      "outputs": [
        {
          "output_type": "stream",
          "name": "stdout",
          "text": [
            "\u001b[2K     \u001b[90m━━━━━━━━━━━━━━━━━━━━━━━━━━━━━━━━━━━━━━━━\u001b[0m \u001b[32m17.7/17.7 MB\u001b[0m \u001b[31m38.2 MB/s\u001b[0m eta \u001b[36m0:00:00\u001b[0m\n",
            "\u001b[?25h"
          ]
        }
      ]
    },
    {
      "cell_type": "code",
      "source": [
        "from pulp import LpProblem, LpVariable, LpBinary, lpSum, LpMaximize, LpStatus\n",
        "\n",
        "# Define el problema de programacion lineal entera\n",
        "prob = LpProblem(\"ProgramacionCine\", LpMaximize)\n",
        "\n",
        "# Definir las semanas y películas disponibles\n",
        "semanas = [1, 2, 3, 4]  # Cuatro semanas\n",
        "peliculas = range(1, 7)  # Seis películas\n",
        "\n",
        "'''# Duración máxima de cada película en semanas\n",
        "duracion_maxima = {1: 2, 2: 3, 3: 1, 4: 2, 5: 3, 6: 3}'''\n",
        "\n",
        "# Variables de decisión\n",
        "x = LpVariable.dicts(\"programa\",\n",
        " [(i, j, k) for i in peliculas for j in semanas for k in range(1, 5)],\n",
        "                     0, 1, LpBinary)   # cat=\"Binary\"\n",
        "\n",
        "# Restricciones\n",
        "\n",
        "# Solo un programa para la película 1\n",
        "prob += lpSum(x[(1, j, k)] for j in semanas for k in range(1, 5)) == 1\n",
        "\n",
        "# Solo un programa para la película 5\n",
        "prob += lpSum(x[(5, j, k)] for j in semanas for k in range(1, 5)) == 1\n",
        "\n",
        "# Restricción para limitar el número de películas en la semana 1\n",
        "prob += lpSum(x[(i, 1, k)] for i in peliculas for k in range(1, 5)) <= 2\n",
        "\n",
        "# Restricción para limitar el número de películas en la semana 3\n",
        "prob += lpSum(x[(i, 3, k)] for i in peliculas for k in range(1, 5)) <= 2\n",
        "\n",
        "\n",
        "# Función objetivo: maximizar el número total de películas programadas\n",
        "funcion_objetivo = 0\n",
        "funcion_objetivo += lpSum(x[(i, j, k)] for i in peliculas for j in semanas for k in range(1, 3))\n",
        "prob.objective = funcion_objetivo\n",
        "\n",
        "# Resolver el problema\n",
        "prob.solve()\n",
        "\n",
        "# Imprimir resultados\n",
        "print(\"Estado:\", LpStatus[prob.status])\n",
        "print(\"Número total de funciones programadas:\", prob.objective.value())\n",
        "\n",
        "print('\\n================= Solución PuLP ===================')\n",
        "print(\"Programación:\")\n",
        "for i in peliculas:\n",
        "    for j in semanas:\n",
        "        for k in range(1, 5):\n",
        "            if x[(i, j, k)].value() == 1:\n",
        "                print(f\"Película {i} programada a partir de la semana {j}, se proyecta por {k} semana(s).\")\n",
        "\n",
        "print('=======================================================')\n"
      ],
      "metadata": {
        "colab": {
          "base_uri": "https://localhost:8080/"
        },
        "id": "Tpi0lQoxYj_5",
        "outputId": "5cf2bc5d-a78a-4b8e-80de-24466338e0c6"
      },
      "execution_count": 14,
      "outputs": [
        {
          "output_type": "stream",
          "name": "stdout",
          "text": [
            "Estado: Optimal\n",
            "Número total de funciones programadas: 22.0\n",
            "\n",
            "================= Solución PuLP ===================\n",
            "Programación:\n",
            "Película 1 programada a partir de la semana 4, se proyecta por 1 semana(s).\n",
            "Película 2 programada a partir de la semana 2, se proyecta por 1 semana(s).\n",
            "Película 2 programada a partir de la semana 2, se proyecta por 2 semana(s).\n",
            "Película 2 programada a partir de la semana 4, se proyecta por 1 semana(s).\n",
            "Película 2 programada a partir de la semana 4, se proyecta por 2 semana(s).\n",
            "Película 3 programada a partir de la semana 2, se proyecta por 1 semana(s).\n",
            "Película 3 programada a partir de la semana 2, se proyecta por 2 semana(s).\n",
            "Película 3 programada a partir de la semana 4, se proyecta por 1 semana(s).\n",
            "Película 3 programada a partir de la semana 4, se proyecta por 2 semana(s).\n",
            "Película 4 programada a partir de la semana 1, se proyecta por 1 semana(s).\n",
            "Película 4 programada a partir de la semana 1, se proyecta por 2 semana(s).\n",
            "Película 4 programada a partir de la semana 2, se proyecta por 1 semana(s).\n",
            "Película 4 programada a partir de la semana 2, se proyecta por 2 semana(s).\n",
            "Película 4 programada a partir de la semana 4, se proyecta por 1 semana(s).\n",
            "Película 4 programada a partir de la semana 4, se proyecta por 2 semana(s).\n",
            "Película 5 programada a partir de la semana 2, se proyecta por 2 semana(s).\n",
            "Película 6 programada a partir de la semana 2, se proyecta por 1 semana(s).\n",
            "Película 6 programada a partir de la semana 2, se proyecta por 2 semana(s).\n",
            "Película 6 programada a partir de la semana 3, se proyecta por 1 semana(s).\n",
            "Película 6 programada a partir de la semana 3, se proyecta por 2 semana(s).\n",
            "Película 6 programada a partir de la semana 4, se proyecta por 1 semana(s).\n",
            "Película 6 programada a partir de la semana 4, se proyecta por 2 semana(s).\n",
            "=======================================================\n"
          ]
        }
      ]
    },
    {
      "cell_type": "markdown",
      "metadata": {
        "id": "GyMNuVdoKq0_"
      },
      "source": [
        "# 4. Analisis de Sensibilidad\n",
        "---\n",
        "\n",
        "Para realizar un análisis de sensibilidad en este caso, podríamos considerar cambios en los parámetros del problema y observar cómo afectan a la solución óptima. Algunos aspectos que podríamos analizar son:\n",
        "\n",
        "1. **Capacidad de las pantallas:** Si aumentamos o disminuimos la cantidad de pantallas disponibles.\n",
        "\n",
        "2. **Disponibilidad de películas:** Si se agregan o se eliminan películas de la lista de disponibles.\n",
        "\n",
        "3. **Duración de la exhibición de películas:** Si se permite que las películas se proyecten durante más o menos semanas consecutivas.\n",
        "\n",
        "4. **Restricciones adicionales:** Podríamos limitar el número máximo de veces que una película puede ser programada en un período de tiempo determinado.\n",
        "\n",
        "\n",
        "## 4.1 Hallazgos y Recomendaciones\n",
        "\n",
        "- Si la capacidad de las pantallas es limitada, aumentarla podría permitir proyectar más películas simultáneamente, lo que podría aumentar el número total de programas seleccionados y, posiblemente, la cantidad de ingresos generados por el cine. Sin embargo, si la capacidad excede la demanda, podría resultar en recursos desperdiciados.\n",
        "\n",
        "- La adición de películas populares a la lista de disponibles podría atraer a más espectadores y aumentar los ingresos del cine. Por otro lado, eliminar películas menos populares podría optimizar la programación al centrarse en aquellas que tienen mayor demanda.\n",
        "\n",
        "- Permitir una mayor flexibilidad en la duración de la exhibición de las películas podría permitir una programación más eficiente, especialmente si algunas películas tienen una demanda estacional o fluctuante.\n",
        "\n",
        "- Limitar la frecuencia de exhibición de ciertas películas, podría ayudar a mantener la variedad en la programación y evitar el agotamiento del público por ver las mismas películas repetidamente.\n"
      ]
    },
    {
      "cell_type": "markdown",
      "metadata": {
        "id": "ROFIFKbJkLbN"
      },
      "source": [
        "# 6. Conclusiones\n",
        "---\n",
        "<br />\n",
        "\n",
        "Al utilizar el modelo de programación lineal entera como el que se ha propuesto, proporciona una herramienta valiosa para optimizar las funciones de las películas en salas de cine.\n",
        "\n",
        "La implementación del modelo en PuLP permite resolver el problema de manera eficiente, ayudando a los gerentes de cines tomar decisiones informadas sobre qué películas exhibir y cuándo hacerlo para una solución óptima que maximice los ingresos totales por la venta de entradas.\n",
        "\n",
        "Además, puede contribuir a mejorar la satisfacción de los clientes y la experiencia general de los espectadores; al considerar factores como la capacidad de las pantallas, la disponibilidad de películas y la duración de la exhibición, los gerentes pueden ajustar la programación para adaptarse a las necesidades y preferencias cambiantes de los espectadores.\n",
        "\n"
      ]
    },
    {
      "cell_type": "markdown",
      "metadata": {
        "id": "8RC1QNNqk6h1"
      },
      "source": [
        "# 7. Referencia Bibliográfica\n",
        "---\n",
        "\n",
        "<br/>\n",
        "\n",
        "[1] Anderson, D. R., Sweeney, D. J., & Williams, T. A. (2011). Métodos cuantitativos para los negocios (11a. Ed.). CENGAGE Learning.\n",
        "\n",
        "[2] Bynum, Michael L., Gabriel A. Hackebeil, William E. Hart, Carl D. Laird, Bethany L. Nicholson, John D. Siirola, Jean-Paul Watson, and David L. Woodruff. Pyomo - Optimization Modeling in Python, 3rd Edition. Springer, 2021.\n"
      ]
    }
  ]
}